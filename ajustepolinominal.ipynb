{
  "nbformat": 4,
  "nbformat_minor": 0,
  "metadata": {
    "colab": {
      "name": "ajustepolinominal.ipynb",
      "provenance": [],
      "authorship_tag": "ABX9TyNECakQlWgPgg1U07Z6aJIK",
      "include_colab_link": true
    },
    "kernelspec": {
      "name": "python3",
      "display_name": "Python 3"
    }
  },
  "cells": [
    {
      "cell_type": "markdown",
      "metadata": {
        "id": "view-in-github",
        "colab_type": "text"
      },
      "source": [
        "<a href=\"https://colab.research.google.com/github/calixfernandez/Colaboratory/blob/master/ajustepolinominal.ipynb\" target=\"_parent\"><img src=\"https://colab.research.google.com/assets/colab-badge.svg\" alt=\"Open In Colab\"/></a>"
      ]
    },
    {
      "cell_type": "code",
      "metadata": {
        "id": "CbUEeyteo8Sx",
        "colab_type": "code",
        "outputId": "b3a13062-af30-4733-e986-970ade724b34",
        "colab": {
          "base_uri": "https://localhost:8080/",
          "height": 70
        }
      },
      "source": [
        "#se llega a la conclusion que el mejor ajuste polinomial es el de grado 3 debido \n",
        "# a que la recta queda mas cerca de los puntos de muestreo el cual es el objetivo del ajuste polinomial\n",
        "\n",
        "import numpy as np\n",
        "\n",
        "def polyfit2(x,y,n):\n",
        "\n",
        "    def inv(A):\n",
        "      return np.linalg.inv(A) #Matriz inversa de la matriz a\n",
        "    def trans(A):\n",
        "      return A.getT() #Transpuesta de la matriz A\n",
        "    def prod(A,B):\n",
        "      return np.dot(A,B)  #Producto punto entre los vectores A y B\n",
        "\n",
        "    xlen = len(x) #Calcula la longitud del vector x\n",
        "    ylen =len(y)\n",
        "    one = np.ones((xlen,n+1),dtype=int) #Matriz de unos de dimensiones (xlen,n+1)\n",
        "    c1=one[:,[1]] #Seleccionamos sólo la columna 1 de la matriz one\n",
        "    xT=np.matrix(x) #Convierte los datos a una matriz de numpy\n",
        "    yT=np.matrix(y) #Convierte los datos a una matriz de numpy\n",
        "    c2=xT.getT()\n",
        "    c3=np.power(c2,2) #Eleva al cuadrado los elementos de la matriz c2\n",
        "    A=np.hstack([c1,c2,c3]) #Agrupa las columnas c1, c2, c3 en una matriz A\n",
        "    ajuste = prod(prod(inv(prod(trans(A),A)),trans(A)),trans(yT))\n",
        "    print(ajuste)\n",
        "\n",
        "x=[1.0,-2.0,3.0,4.0]\n",
        "y=[4.0,5.0,-1.0,1.0]\n",
        "\n",
        "polyfit2(x,y,2)"
      ],
      "execution_count": 0,
      "outputs": [
        {
          "output_type": "stream",
          "text": [
            "[[ 3.75      ]\n",
            " [-0.81060606]\n",
            " [-0.03787879]]\n"
          ],
          "name": "stdout"
        }
      ]
    }
  ]
}